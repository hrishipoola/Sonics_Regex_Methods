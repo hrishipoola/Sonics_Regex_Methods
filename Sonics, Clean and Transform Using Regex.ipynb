{
    "cells": [
        {
            "cell_type": "markdown",
            "metadata": {
                "collapsed": true
            },
            "source": "# '96 Sonics: 3 Regex Methods to Split Names"
        },
        {
            "cell_type": "markdown",
            "metadata": {},
            "source": "## Table of Contents\n1. Introduction\n2. Install & Import Packages\n3. Scrape and Display Logo\n4. Scrape Roster and Convert to Dataframe\n5. **Method 1**: .replace()\n6. **Method 2**: splitname function, .apply()\n7. **Method 3**: .extract(), dictionarize"
        },
        {
            "cell_type": "markdown",
            "metadata": {},
            "source": "## 1. Introduction\n\nToday, we'll walk through 3 simple regex methods to split names into first and last names in a dataframe. We'll work with roster data for the '96 Seattle SuperSonics, one of my all-time favorite teams. Led by Payton, Kemp, Schrempf and coach George Karl, they reached the Finals that year, losing to the Bulls in 6. \n\nWe'll use BeautifulSoup to scrape roster data from Basketball Reference after a search for Seattle SuperSonics (https://www.basketball-reference.com/teams/SEA/1996.html) and convert to a dataframe. Once we have our players, we'll split player names into first and last names using 3 regex methods, walking through the regex logic and methodology in each. \n\nThis simple exercise could be useful for anyone working with string name fields in, for example, customer, applicant, or patient data where first and last names are combined. A similar logic can be used for any string fields that need to be separated (e.g., countries and their capitals). Let's dive in. "
        },
        {
            "cell_type": "markdown",
            "metadata": {},
            "source": "## 2. Install & Import Packages "
        },
        {
            "cell_type": "code",
            "execution_count": 41,
            "metadata": {},
            "outputs": [
                {
                    "name": "stdout",
                    "output_type": "stream",
                    "text": "Requirement already satisfied: lxml in /opt/conda/envs/Python36/lib/python3.6/site-packages (4.3.1)\r\n"
                }
            ],
            "source": "import pandas as pd\nimport numpy as np\n\n# Web scraping using BeautifulSoup and converting to pandas dataframe\nimport requests \nimport urllib.request \nimport json # library to handle JSON files\nfrom pandas.io.json import json_normalize # tranform JSON file into a pandas dataframe\nfrom urllib.request import urlopen\nfrom bs4 import BeautifulSoup\n!pip install lxml # Install lxml parser as it's faster than the built-in html parser\n\n# Displaying images\nfrom IPython.display import Image\nfrom IPython.core.display import HTML "
        },
        {
            "cell_type": "markdown",
            "metadata": {},
            "source": "## 3. Scrape and Display Logo"
        },
        {
            "cell_type": "code",
            "execution_count": 42,
            "metadata": {},
            "outputs": [
                {
                    "data": {
                        "text/html": "<img src=\"https://d2p3bygnnzw9w3.cloudfront.net/req/202008171/tlogo/bbr/SEA-1996.png\" width=\"180\" height=\"90\"/>",
                        "text/plain": "<IPython.core.display.Image object>"
                    },
                    "execution_count": 42,
                    "metadata": {},
                    "output_type": "execute_result"
                }
            ],
            "source": "# Load image using Image method we imported from iPython display and image url\nImage(url= \"https://d2p3bygnnzw9w3.cloudfront.net/req/202008171/tlogo/bbr/SEA-1996.png\", width=180, height=90)"
        },
        {
            "cell_type": "markdown",
            "metadata": {},
            "source": "## 4. Scrape Roster & Convert to Dataframe"
        },
        {
            "cell_type": "code",
            "execution_count": 43,
            "metadata": {},
            "outputs": [],
            "source": "# Specify url and get html from page\nurl = \"https://www.basketball-reference.com/teams/SEA/1996.html\"\nhtml = urlopen(url)"
        },
        {
            "cell_type": "code",
            "execution_count": 44,
            "metadata": {},
            "outputs": [
                {
                    "data": {
                        "text/plain": "bs4.BeautifulSoup"
                    },
                    "execution_count": 44,
                    "metadata": {},
                    "output_type": "execute_result"
                }
            ],
            "source": "# Create BeautifulSoup object using lxml parser we imported\nsoup = BeautifulSoup(html, 'lxml')\ntype(soup)"
        },
        {
            "cell_type": "code",
            "execution_count": 45,
            "metadata": {},
            "outputs": [
                {
                    "name": "stdout",
                    "output_type": "stream",
                    "text": "<title>1995-96 Seattle SuperSonics Roster and Stats | Basketball-Reference.com</title>\n"
                }
            ],
            "source": "# Print title of the page, we see that it's the 1995-96 SeattleSupersonics Roster and Stats page\ntitle = soup.title\nprint(title)"
        },
        {
            "cell_type": "code",
            "execution_count": 46,
            "metadata": {},
            "outputs": [],
            "source": "# extracting the raw table inside that webpage\ntable = soup.find_all('table')"
        },
        {
            "cell_type": "code",
            "execution_count": 47,
            "metadata": {},
            "outputs": [
                {
                    "data": {
                        "text/html": "<div>\n<style scoped>\n    .dataframe tbody tr th:only-of-type {\n        vertical-align: middle;\n    }\n\n    .dataframe tbody tr th {\n        vertical-align: top;\n    }\n\n    .dataframe thead th {\n        text-align: right;\n    }\n</style>\n<table border=\"1\" class=\"dataframe\">\n  <thead>\n    <tr style=\"text-align: right;\">\n      <th></th>\n      <th>No.</th>\n      <th>Player</th>\n      <th>Pos</th>\n      <th>Ht</th>\n      <th>Wt</th>\n      <th>Birth Date</th>\n      <th>Unnamed: 6</th>\n      <th>Exp</th>\n      <th>College</th>\n    </tr>\n  </thead>\n  <tbody>\n    <tr>\n      <th>0</th>\n      <td>2</td>\n      <td>Vincent Askew</td>\n      <td>SG</td>\n      <td>6-6</td>\n      <td>210</td>\n      <td>February 28, 1966</td>\n      <td>us</td>\n      <td>6</td>\n      <td>Memphis</td>\n    </tr>\n    <tr>\n      <th>1</th>\n      <td>34</td>\n      <td>Frank Brickowski</td>\n      <td>C</td>\n      <td>6-9</td>\n      <td>240</td>\n      <td>August 14, 1959</td>\n      <td>us</td>\n      <td>10</td>\n      <td>Penn State</td>\n    </tr>\n    <tr>\n      <th>2</th>\n      <td>1</td>\n      <td>Sherell Ford</td>\n      <td>SF</td>\n      <td>6-7</td>\n      <td>210</td>\n      <td>August 26, 1972</td>\n      <td>us</td>\n      <td>R</td>\n      <td>University of Illinois at Chicago</td>\n    </tr>\n    <tr>\n      <th>3</th>\n      <td>33</td>\n      <td>Hersey Hawkins</td>\n      <td>SG</td>\n      <td>6-3</td>\n      <td>190</td>\n      <td>September 29, 1966</td>\n      <td>us</td>\n      <td>7</td>\n      <td>Bradley</td>\n    </tr>\n    <tr>\n      <th>4</th>\n      <td>50</td>\n      <td>Ervin Johnson</td>\n      <td>C</td>\n      <td>6-11</td>\n      <td>245</td>\n      <td>December 21, 1967</td>\n      <td>us</td>\n      <td>2</td>\n      <td>New Orleans</td>\n    </tr>\n    <tr>\n      <th>5</th>\n      <td>40</td>\n      <td>Shawn Kemp</td>\n      <td>PF</td>\n      <td>6-10</td>\n      <td>230</td>\n      <td>November 26, 1969</td>\n      <td>us</td>\n      <td>6</td>\n      <td>Trinity Valley CC</td>\n    </tr>\n    <tr>\n      <th>6</th>\n      <td>10</td>\n      <td>Nate McMillan</td>\n      <td>PG</td>\n      <td>6-5</td>\n      <td>195</td>\n      <td>August 3, 1964</td>\n      <td>us</td>\n      <td>9</td>\n      <td>NC State</td>\n    </tr>\n    <tr>\n      <th>7</th>\n      <td>20</td>\n      <td>Gary Payton</td>\n      <td>PG</td>\n      <td>6-4</td>\n      <td>180</td>\n      <td>July 23, 1968</td>\n      <td>us</td>\n      <td>5</td>\n      <td>Oregon State</td>\n    </tr>\n    <tr>\n      <th>8</th>\n      <td>14</td>\n      <td>Sam Perkins</td>\n      <td>PF</td>\n      <td>6-9</td>\n      <td>235</td>\n      <td>June 14, 1961</td>\n      <td>us</td>\n      <td>11</td>\n      <td>UNC</td>\n    </tr>\n    <tr>\n      <th>9</th>\n      <td>55</td>\n      <td>Steve Scheffler</td>\n      <td>C</td>\n      <td>6-9</td>\n      <td>250</td>\n      <td>September 3, 1967</td>\n      <td>us</td>\n      <td>5</td>\n      <td>Purdue</td>\n    </tr>\n    <tr>\n      <th>10</th>\n      <td>11</td>\n      <td>Detlef Schrempf</td>\n      <td>SF</td>\n      <td>6-10</td>\n      <td>235</td>\n      <td>January 21, 1963</td>\n      <td>de</td>\n      <td>10</td>\n      <td>Washington</td>\n    </tr>\n    <tr>\n      <th>11</th>\n      <td>3</td>\n      <td>Eric Snow</td>\n      <td>PG</td>\n      <td>6-3</td>\n      <td>190</td>\n      <td>April 24, 1973</td>\n      <td>us</td>\n      <td>R</td>\n      <td>Michigan State</td>\n    </tr>\n    <tr>\n      <th>12</th>\n      <td>25</td>\n      <td>David Wingate</td>\n      <td>SG</td>\n      <td>6-5</td>\n      <td>185</td>\n      <td>December 15, 1963</td>\n      <td>us</td>\n      <td>9</td>\n      <td>Georgetown</td>\n    </tr>\n  </tbody>\n</table>\n</div>",
                        "text/plain": "    No.            Player Pos    Ht   Wt          Birth Date Unnamed: 6 Exp  \\\n0     2     Vincent Askew  SG   6-6  210   February 28, 1966         us   6   \n1    34  Frank Brickowski   C   6-9  240     August 14, 1959         us  10   \n2     1      Sherell Ford  SF   6-7  210     August 26, 1972         us   R   \n3    33    Hersey Hawkins  SG   6-3  190  September 29, 1966         us   7   \n4    50     Ervin Johnson   C  6-11  245   December 21, 1967         us   2   \n5    40        Shawn Kemp  PF  6-10  230   November 26, 1969         us   6   \n6    10     Nate McMillan  PG   6-5  195      August 3, 1964         us   9   \n7    20       Gary Payton  PG   6-4  180       July 23, 1968         us   5   \n8    14       Sam Perkins  PF   6-9  235       June 14, 1961         us  11   \n9    55   Steve Scheffler   C   6-9  250   September 3, 1967         us   5   \n10   11   Detlef Schrempf  SF  6-10  235    January 21, 1963         de  10   \n11    3         Eric Snow  PG   6-3  190      April 24, 1973         us   R   \n12   25     David Wingate  SG   6-5  185   December 15, 1963         us   9   \n\n                              College  \n0                             Memphis  \n1                          Penn State  \n2   University of Illinois at Chicago  \n3                             Bradley  \n4                         New Orleans  \n5                   Trinity Valley CC  \n6                            NC State  \n7                        Oregon State  \n8                                 UNC  \n9                              Purdue  \n10                         Washington  \n11                     Michigan State  \n12                         Georgetown  "
                    },
                    "execution_count": 47,
                    "metadata": {},
                    "output_type": "execute_result"
                }
            ],
            "source": "# Scrape just the table for Sonics roster, which is the 1st table and convert it into a dataframe\nsonics = pd.read_html(str(table[0]), index_col=None, header=0)[0]\nsonics"
        },
        {
            "cell_type": "code",
            "execution_count": 48,
            "metadata": {},
            "outputs": [
                {
                    "data": {
                        "text/html": "<div>\n<style scoped>\n    .dataframe tbody tr th:only-of-type {\n        vertical-align: middle;\n    }\n\n    .dataframe tbody tr th {\n        vertical-align: top;\n    }\n\n    .dataframe thead th {\n        text-align: right;\n    }\n</style>\n<table border=\"1\" class=\"dataframe\">\n  <thead>\n    <tr style=\"text-align: right;\">\n      <th></th>\n      <th>Player</th>\n    </tr>\n  </thead>\n  <tbody>\n    <tr>\n      <th>0</th>\n      <td>Vincent Askew</td>\n    </tr>\n    <tr>\n      <th>1</th>\n      <td>Frank Brickowski</td>\n    </tr>\n    <tr>\n      <th>2</th>\n      <td>Sherell Ford</td>\n    </tr>\n    <tr>\n      <th>3</th>\n      <td>Hersey Hawkins</td>\n    </tr>\n    <tr>\n      <th>4</th>\n      <td>Ervin Johnson</td>\n    </tr>\n    <tr>\n      <th>5</th>\n      <td>Shawn Kemp</td>\n    </tr>\n    <tr>\n      <th>6</th>\n      <td>Nate McMillan</td>\n    </tr>\n    <tr>\n      <th>7</th>\n      <td>Gary Payton</td>\n    </tr>\n    <tr>\n      <th>8</th>\n      <td>Sam Perkins</td>\n    </tr>\n    <tr>\n      <th>9</th>\n      <td>Steve Scheffler</td>\n    </tr>\n    <tr>\n      <th>10</th>\n      <td>Detlef Schrempf</td>\n    </tr>\n    <tr>\n      <th>11</th>\n      <td>Eric Snow</td>\n    </tr>\n    <tr>\n      <th>12</th>\n      <td>David Wingate</td>\n    </tr>\n  </tbody>\n</table>\n</div>",
                        "text/plain": "              Player\n0      Vincent Askew\n1   Frank Brickowski\n2       Sherell Ford\n3     Hersey Hawkins\n4      Ervin Johnson\n5         Shawn Kemp\n6      Nate McMillan\n7        Gary Payton\n8        Sam Perkins\n9    Steve Scheffler\n10   Detlef Schrempf\n11         Eric Snow\n12     David Wingate"
                    },
                    "execution_count": 48,
                    "metadata": {},
                    "output_type": "execute_result"
                }
            ],
            "source": "# Keep only Player' column as that's the only one we'll need here\nkeep=['Player']\nsonics = sonics[keep]\nsonics"
        },
        {
            "cell_type": "code",
            "execution_count": 49,
            "metadata": {},
            "outputs": [
                {
                    "name": "stdout",
                    "output_type": "stream",
                    "text": "<class 'pandas.core.frame.DataFrame'>\nRangeIndex: 13 entries, 0 to 12\nData columns (total 1 columns):\nPlayer    13 non-null object\ndtypes: object(1)\nmemory usage: 184.0+ bytes\n"
                }
            ],
            "source": "# Check dataframe info, we have 13 players all of data type object\nsonics.info()"
        },
        {
            "cell_type": "markdown",
            "metadata": {},
            "source": "## 5. Method 1: .replace()"
        },
        {
            "cell_type": "markdown",
            "metadata": {},
            "source": "Create columns for first and last names and populate each with full player names. For first names, we'll replace all characters after a space with empty string. For last names, we'll replace all characters before a space with empty string. "
        },
        {
            "cell_type": "code",
            "execution_count": 50,
            "metadata": {},
            "outputs": [
                {
                    "name": "stderr",
                    "output_type": "stream",
                    "text": "/opt/conda/envs/Python36/lib/python3.6/site-packages/ipykernel/__main__.py:4: SettingWithCopyWarning: \nA value is trying to be set on a copy of a slice from a DataFrame.\nTry using .loc[row_indexer,col_indexer] = value instead\n\nSee the caveats in the documentation: http://pandas.pydata.org/pandas-docs/stable/indexing.html#indexing-view-versus-copy\n/opt/conda/envs/Python36/lib/python3.6/site-packages/ipykernel/__main__.py:8: SettingWithCopyWarning: \nA value is trying to be set on a copy of a slice from a DataFrame.\nTry using .loc[row_indexer,col_indexer] = value instead\n\nSee the caveats in the documentation: http://pandas.pydata.org/pandas-docs/stable/indexing.html#indexing-view-versus-copy\n/opt/conda/envs/Python36/lib/python3.6/site-packages/ipykernel/__main__.py:11: SettingWithCopyWarning: \nA value is trying to be set on a copy of a slice from a DataFrame.\nTry using .loc[row_indexer,col_indexer] = value instead\n\nSee the caveats in the documentation: http://pandas.pydata.org/pandas-docs/stable/indexing.html#indexing-view-versus-copy\n/opt/conda/envs/Python36/lib/python3.6/site-packages/ipykernel/__main__.py:15: SettingWithCopyWarning: \nA value is trying to be set on a copy of a slice from a DataFrame.\nTry using .loc[row_indexer,col_indexer] = value instead\n\nSee the caveats in the documentation: http://pandas.pydata.org/pandas-docs/stable/indexing.html#indexing-view-versus-copy\n"
                },
                {
                    "data": {
                        "text/html": "<div>\n<style scoped>\n    .dataframe tbody tr th:only-of-type {\n        vertical-align: middle;\n    }\n\n    .dataframe tbody tr th {\n        vertical-align: top;\n    }\n\n    .dataframe thead th {\n        text-align: right;\n    }\n</style>\n<table border=\"1\" class=\"dataframe\">\n  <thead>\n    <tr style=\"text-align: right;\">\n      <th></th>\n      <th>Player</th>\n      <th>First</th>\n      <th>Last</th>\n    </tr>\n  </thead>\n  <tbody>\n    <tr>\n      <th>0</th>\n      <td>Vincent Askew</td>\n      <td>Vincent</td>\n      <td>Askew</td>\n    </tr>\n    <tr>\n      <th>1</th>\n      <td>Frank Brickowski</td>\n      <td>Frank</td>\n      <td>Brickowski</td>\n    </tr>\n    <tr>\n      <th>2</th>\n      <td>Sherell Ford</td>\n      <td>Sherell</td>\n      <td>Ford</td>\n    </tr>\n    <tr>\n      <th>3</th>\n      <td>Hersey Hawkins</td>\n      <td>Hersey</td>\n      <td>Hawkins</td>\n    </tr>\n    <tr>\n      <th>4</th>\n      <td>Ervin Johnson</td>\n      <td>Ervin</td>\n      <td>Johnson</td>\n    </tr>\n    <tr>\n      <th>5</th>\n      <td>Shawn Kemp</td>\n      <td>Shawn</td>\n      <td>Kemp</td>\n    </tr>\n    <tr>\n      <th>6</th>\n      <td>Nate McMillan</td>\n      <td>Nate</td>\n      <td>McMillan</td>\n    </tr>\n    <tr>\n      <th>7</th>\n      <td>Gary Payton</td>\n      <td>Gary</td>\n      <td>Payton</td>\n    </tr>\n    <tr>\n      <th>8</th>\n      <td>Sam Perkins</td>\n      <td>Sam</td>\n      <td>Perkins</td>\n    </tr>\n    <tr>\n      <th>9</th>\n      <td>Steve Scheffler</td>\n      <td>Steve</td>\n      <td>Scheffler</td>\n    </tr>\n    <tr>\n      <th>10</th>\n      <td>Detlef Schrempf</td>\n      <td>Detlef</td>\n      <td>Schrempf</td>\n    </tr>\n    <tr>\n      <th>11</th>\n      <td>Eric Snow</td>\n      <td>Eric</td>\n      <td>Snow</td>\n    </tr>\n    <tr>\n      <th>12</th>\n      <td>David Wingate</td>\n      <td>David</td>\n      <td>Wingate</td>\n    </tr>\n  </tbody>\n</table>\n</div>",
                        "text/plain": "              Player    First        Last\n0      Vincent Askew  Vincent       Askew\n1   Frank Brickowski    Frank  Brickowski\n2       Sherell Ford  Sherell        Ford\n3     Hersey Hawkins   Hersey     Hawkins\n4      Ervin Johnson    Ervin     Johnson\n5         Shawn Kemp    Shawn        Kemp\n6      Nate McMillan     Nate    McMillan\n7        Gary Payton     Gary      Payton\n8        Sam Perkins      Sam     Perkins\n9    Steve Scheffler    Steve   Scheffler\n10   Detlef Schrempf   Detlef    Schrempf\n11         Eric Snow     Eric        Snow\n12     David Wingate    David     Wingate"
                    },
                    "execution_count": 50,
                    "metadata": {},
                    "output_type": "execute_result"
                }
            ],
            "source": "# So I want to create two new columns and apply a regex to the projection of the \"Player\" column.\n\n# Create 'First' column as copy of 'Player' column,  \nsonics['First']=sonics['Player']\n\n# Replace al characters after space with empty string \n# [ ].*: [ ] means space, . means any single character, * means an unlimited number of times\nsonics['First']=sonics['First'].replace(\"[ ].*\", \"\", regex=True)\n\n# Create 'Last' column as copy of 'Player' column \nsonics['Last']=sonics['Player']\n\n# Replace al characters before space with empty string\n# .*[ ]: . means any single character, * means an unlimited number of times, [ ] means space\nsonics[\"Last\"]=sonics[\"Last\"].replace(\".*[ ]\", \"\", regex=True)\n\n# Taking a look, we see the names split into first and last name columns\nsonics"
        },
        {
            "cell_type": "markdown",
            "metadata": {},
            "source": "## 6. Method 2: splitname function, .apply()"
        },
        {
            "cell_type": "markdown",
            "metadata": {},
            "source": "We'll define a function splitname with an argument for row, which is a Series object of a single row indexed by column values. For each row, we'll extract the first name by creating a 'First' column for which we'll split the player name on the space (\" \") and take the first result ([0]) as the new entry in the series. We'll do the same for 'Last', but extract the last result ([-1]) as the new entry in the series. Lastly, we'll use the apply() function on the player column (.apply automatically merges series with dataframe). "
        },
        {
            "cell_type": "code",
            "execution_count": 51,
            "metadata": {},
            "outputs": [
                {
                    "data": {
                        "text/html": "<div>\n<style scoped>\n    .dataframe tbody tr th:only-of-type {\n        vertical-align: middle;\n    }\n\n    .dataframe tbody tr th {\n        vertical-align: top;\n    }\n\n    .dataframe thead th {\n        text-align: right;\n    }\n</style>\n<table border=\"1\" class=\"dataframe\">\n  <thead>\n    <tr style=\"text-align: right;\">\n      <th></th>\n      <th>Player</th>\n    </tr>\n  </thead>\n  <tbody>\n    <tr>\n      <th>0</th>\n      <td>Vincent Askew</td>\n    </tr>\n    <tr>\n      <th>1</th>\n      <td>Frank Brickowski</td>\n    </tr>\n    <tr>\n      <th>2</th>\n      <td>Sherell Ford</td>\n    </tr>\n    <tr>\n      <th>3</th>\n      <td>Hersey Hawkins</td>\n    </tr>\n    <tr>\n      <th>4</th>\n      <td>Ervin Johnson</td>\n    </tr>\n  </tbody>\n</table>\n</div>",
                        "text/plain": "             Player\n0     Vincent Askew\n1  Frank Brickowski\n2      Sherell Ford\n3    Hersey Hawkins\n4     Ervin Johnson"
                    },
                    "execution_count": 51,
                    "metadata": {},
                    "output_type": "execute_result"
                }
            ],
            "source": "# Delete 'First' and 'Last' columns so we have only our original 'Player' column\ndel(sonics['First'], sonics['Last'])\nsonics.head()"
        },
        {
            "cell_type": "code",
            "execution_count": 52,
            "metadata": {},
            "outputs": [
                {
                    "data": {
                        "text/html": "<div>\n<style scoped>\n    .dataframe tbody tr th:only-of-type {\n        vertical-align: middle;\n    }\n\n    .dataframe tbody tr th {\n        vertical-align: top;\n    }\n\n    .dataframe thead th {\n        text-align: right;\n    }\n</style>\n<table border=\"1\" class=\"dataframe\">\n  <thead>\n    <tr style=\"text-align: right;\">\n      <th></th>\n      <th>Player</th>\n      <th>First</th>\n      <th>Last</th>\n    </tr>\n  </thead>\n  <tbody>\n    <tr>\n      <th>0</th>\n      <td>Vincent Askew</td>\n      <td>Vincent</td>\n      <td>Askew</td>\n    </tr>\n    <tr>\n      <th>1</th>\n      <td>Frank Brickowski</td>\n      <td>Frank</td>\n      <td>Brickowski</td>\n    </tr>\n    <tr>\n      <th>2</th>\n      <td>Sherell Ford</td>\n      <td>Sherell</td>\n      <td>Ford</td>\n    </tr>\n    <tr>\n      <th>3</th>\n      <td>Hersey Hawkins</td>\n      <td>Hersey</td>\n      <td>Hawkins</td>\n    </tr>\n    <tr>\n      <th>4</th>\n      <td>Ervin Johnson</td>\n      <td>Ervin</td>\n      <td>Johnson</td>\n    </tr>\n    <tr>\n      <th>5</th>\n      <td>Shawn Kemp</td>\n      <td>Shawn</td>\n      <td>Kemp</td>\n    </tr>\n    <tr>\n      <th>6</th>\n      <td>Nate McMillan</td>\n      <td>Nate</td>\n      <td>McMillan</td>\n    </tr>\n    <tr>\n      <th>7</th>\n      <td>Gary Payton</td>\n      <td>Gary</td>\n      <td>Payton</td>\n    </tr>\n    <tr>\n      <th>8</th>\n      <td>Sam Perkins</td>\n      <td>Sam</td>\n      <td>Perkins</td>\n    </tr>\n    <tr>\n      <th>9</th>\n      <td>Steve Scheffler</td>\n      <td>Steve</td>\n      <td>Scheffler</td>\n    </tr>\n    <tr>\n      <th>10</th>\n      <td>Detlef Schrempf</td>\n      <td>Detlef</td>\n      <td>Schrempf</td>\n    </tr>\n    <tr>\n      <th>11</th>\n      <td>Eric Snow</td>\n      <td>Eric</td>\n      <td>Snow</td>\n    </tr>\n    <tr>\n      <th>12</th>\n      <td>David Wingate</td>\n      <td>David</td>\n      <td>Wingate</td>\n    </tr>\n  </tbody>\n</table>\n</div>",
                        "text/plain": "              Player    First        Last\n0      Vincent Askew  Vincent       Askew\n1   Frank Brickowski    Frank  Brickowski\n2       Sherell Ford  Sherell        Ford\n3     Hersey Hawkins   Hersey     Hawkins\n4      Ervin Johnson    Ervin     Johnson\n5         Shawn Kemp    Shawn        Kemp\n6      Nate McMillan     Nate    McMillan\n7        Gary Payton     Gary      Payton\n8        Sam Perkins      Sam     Perkins\n9    Steve Scheffler    Steve   Scheffler\n10   Detlef Schrempf   Detlef    Schrempf\n11         Eric Snow     Eric        Snow\n12     David Wingate    David     Wingate"
                    },
                    "execution_count": 52,
                    "metadata": {},
                    "output_type": "execute_result"
                }
            ],
            "source": "# Define splitname function that splits string into two pieces on single row of data\ndef splitname(row):\n    row['First']=row['Player'].split(\" \")[0] # Extract first name and create new entry in series\n    row['Last']=row['Player'].split(\" \")[-1] # Extract last name and create new entry in series\n    return row\n\n# Aplly splitname function to column of players\nsonics = sonics.apply(splitname, axis='columns')\n\n# Taking a look, we see the names split into first and last name columns\nsonics"
        },
        {
            "cell_type": "markdown",
            "metadata": {},
            "source": "## 7. Method 3: .extract(), dictionarize"
        },
        {
            "cell_type": "markdown",
            "metadata": {},
            "source": "The .extract function is part of the .str attribute of a Series. It takes a regex input of groups we we want to capture that are then output as columns. "
        },
        {
            "cell_type": "code",
            "execution_count": 53,
            "metadata": {},
            "outputs": [
                {
                    "data": {
                        "text/html": "<div>\n<style scoped>\n    .dataframe tbody tr th:only-of-type {\n        vertical-align: middle;\n    }\n\n    .dataframe tbody tr th {\n        vertical-align: top;\n    }\n\n    .dataframe thead th {\n        text-align: right;\n    }\n</style>\n<table border=\"1\" class=\"dataframe\">\n  <thead>\n    <tr style=\"text-align: right;\">\n      <th></th>\n      <th>Player</th>\n    </tr>\n  </thead>\n  <tbody>\n    <tr>\n      <th>0</th>\n      <td>Vincent Askew</td>\n    </tr>\n    <tr>\n      <th>1</th>\n      <td>Frank Brickowski</td>\n    </tr>\n    <tr>\n      <th>2</th>\n      <td>Sherell Ford</td>\n    </tr>\n    <tr>\n      <th>3</th>\n      <td>Hersey Hawkins</td>\n    </tr>\n    <tr>\n      <th>4</th>\n      <td>Ervin Johnson</td>\n    </tr>\n  </tbody>\n</table>\n</div>",
                        "text/plain": "             Player\n0     Vincent Askew\n1  Frank Brickowski\n2      Sherell Ford\n3    Hersey Hawkins\n4     Ervin Johnson"
                    },
                    "execution_count": 53,
                    "metadata": {},
                    "output_type": "execute_result"
                }
            ],
            "source": "# Delete 'First' and 'Last' columns so we have only our original 'Player' column\ndel(sonics['First'], sonics['Last'])\nsonics.head()"
        },
        {
            "cell_type": "code",
            "execution_count": 54,
            "metadata": {},
            "outputs": [
                {
                    "data": {
                        "text/html": "<div>\n<style scoped>\n    .dataframe tbody tr th:only-of-type {\n        vertical-align: middle;\n    }\n\n    .dataframe tbody tr th {\n        vertical-align: top;\n    }\n\n    .dataframe thead th {\n        text-align: right;\n    }\n</style>\n<table border=\"1\" class=\"dataframe\">\n  <thead>\n    <tr style=\"text-align: right;\">\n      <th></th>\n      <th>0</th>\n      <th>1</th>\n    </tr>\n  </thead>\n  <tbody>\n    <tr>\n      <th>0</th>\n      <td>Vincent</td>\n      <td>Askew</td>\n    </tr>\n    <tr>\n      <th>1</th>\n      <td>Frank</td>\n      <td>Brickowski</td>\n    </tr>\n    <tr>\n      <th>2</th>\n      <td>Sherell</td>\n      <td>Ford</td>\n    </tr>\n    <tr>\n      <th>3</th>\n      <td>Hersey</td>\n      <td>Hawkins</td>\n    </tr>\n    <tr>\n      <th>4</th>\n      <td>Ervin</td>\n      <td>Johnson</td>\n    </tr>\n    <tr>\n      <th>5</th>\n      <td>Shawn</td>\n      <td>Kemp</td>\n    </tr>\n    <tr>\n      <th>6</th>\n      <td>Nate</td>\n      <td>McMillan</td>\n    </tr>\n    <tr>\n      <th>7</th>\n      <td>Gary</td>\n      <td>Payton</td>\n    </tr>\n    <tr>\n      <th>8</th>\n      <td>Sam</td>\n      <td>Perkins</td>\n    </tr>\n    <tr>\n      <th>9</th>\n      <td>Steve</td>\n      <td>Scheffler</td>\n    </tr>\n    <tr>\n      <th>10</th>\n      <td>Detlef</td>\n      <td>Schrempf</td>\n    </tr>\n    <tr>\n      <th>11</th>\n      <td>Eric</td>\n      <td>Snow</td>\n    </tr>\n    <tr>\n      <th>12</th>\n      <td>David</td>\n      <td>Wingate</td>\n    </tr>\n  </tbody>\n</table>\n</div>",
                        "text/plain": "          0           1\n0   Vincent       Askew\n1     Frank  Brickowski\n2   Sherell        Ford\n3    Hersey     Hawkins\n4     Ervin     Johnson\n5     Shawn        Kemp\n6      Nate    McMillan\n7      Gary      Payton\n8       Sam     Perkins\n9     Steve   Scheffler\n10   Detlef    Schrempf\n11     Eric        Snow\n12    David     Wingate"
                    },
                    "execution_count": 54,
                    "metadata": {},
                    "output_type": "execute_result"
                }
            ],
            "source": "# Define regex pattern\n# (^[\\w]*): () for 1st group, ^ signifies start of string, [\\w] means any word character, * means unlimited number of times\n# (?:.*): () for 2nd group, ?: means non-capturing, . means any character, * means unlimited number of times,   means space\n# ([\\w\\-]*$): () for 3rd group, [\\w\\-] means any word character or hyphen (for hyphenated last names), * means unlimited number of times, $ signifies end of string\n\npattern = \"(^[\\w]*)(?:.* )([\\w\\-]*$)\"\n\n# Extract pattern from Player names series and output as columns\nsonics['Player'].str.extract(pattern)"
        },
        {
            "cell_type": "code",
            "execution_count": 55,
            "metadata": {},
            "outputs": [
                {
                    "data": {
                        "text/html": "<div>\n<style scoped>\n    .dataframe tbody tr th:only-of-type {\n        vertical-align: middle;\n    }\n\n    .dataframe tbody tr th {\n        vertical-align: top;\n    }\n\n    .dataframe thead th {\n        text-align: right;\n    }\n</style>\n<table border=\"1\" class=\"dataframe\">\n  <thead>\n    <tr style=\"text-align: right;\">\n      <th></th>\n      <th>First</th>\n      <th>Last</th>\n    </tr>\n  </thead>\n  <tbody>\n    <tr>\n      <th>0</th>\n      <td>Vincent</td>\n      <td>Askew</td>\n    </tr>\n    <tr>\n      <th>1</th>\n      <td>Frank</td>\n      <td>Brickowski</td>\n    </tr>\n    <tr>\n      <th>2</th>\n      <td>Sherell</td>\n      <td>Ford</td>\n    </tr>\n    <tr>\n      <th>3</th>\n      <td>Hersey</td>\n      <td>Hawkins</td>\n    </tr>\n    <tr>\n      <th>4</th>\n      <td>Ervin</td>\n      <td>Johnson</td>\n    </tr>\n    <tr>\n      <th>5</th>\n      <td>Shawn</td>\n      <td>Kemp</td>\n    </tr>\n    <tr>\n      <th>6</th>\n      <td>Nate</td>\n      <td>McMillan</td>\n    </tr>\n    <tr>\n      <th>7</th>\n      <td>Gary</td>\n      <td>Payton</td>\n    </tr>\n    <tr>\n      <th>8</th>\n      <td>Sam</td>\n      <td>Perkins</td>\n    </tr>\n    <tr>\n      <th>9</th>\n      <td>Steve</td>\n      <td>Scheffler</td>\n    </tr>\n    <tr>\n      <th>10</th>\n      <td>Detlef</td>\n      <td>Schrempf</td>\n    </tr>\n    <tr>\n      <th>11</th>\n      <td>Eric</td>\n      <td>Snow</td>\n    </tr>\n    <tr>\n      <th>12</th>\n      <td>David</td>\n      <td>Wingate</td>\n    </tr>\n  </tbody>\n</table>\n</div>",
                        "text/plain": "      First        Last\n0   Vincent       Askew\n1     Frank  Brickowski\n2   Sherell        Ford\n3    Hersey     Hawkins\n4     Ervin     Johnson\n5     Shawn        Kemp\n6      Nate    McMillan\n7      Gary      Payton\n8       Sam     Perkins\n9     Steve   Scheffler\n10   Detlef    Schrempf\n11     Eric        Snow\n12    David     Wingate"
                    },
                    "execution_count": 55,
                    "metadata": {},
                    "output_type": "execute_result"
                }
            ],
            "source": "# We can dictionarize to get columns labeled First and Last (instead of the 0 and 1 column headings above)\n# (?P<First>^[\\w]*): () for 1st group, ?P<First> means dictionary label 'First', ^ signifies start of string, [\\w] means any word character, * means unlimited number of times\n# (?:.*): () for 2nd group, ?: means non-capturing, . means any character, * means unlimited number of times,   means space\n# (?P<Last>[\\w\\-]*$): () for 3rd group, ?P<Last> means dictionary label 'Last', [\\w\\-] means any word character or hyphen (for hyphenated last names), * means unlimited number of times, $ signifies end of string\n\npattern=\"(?P<First>^[\\w]*)(?:.* )(?P<Last>[\\w\\-]*$)\"\n\n# Now call extract\nnames=sonics['Player'].str.extract(pattern)\nnames"
        },
        {
            "cell_type": "code",
            "execution_count": 56,
            "metadata": {},
            "outputs": [
                {
                    "data": {
                        "text/html": "<div>\n<style scoped>\n    .dataframe tbody tr th:only-of-type {\n        vertical-align: middle;\n    }\n\n    .dataframe tbody tr th {\n        vertical-align: top;\n    }\n\n    .dataframe thead th {\n        text-align: right;\n    }\n</style>\n<table border=\"1\" class=\"dataframe\">\n  <thead>\n    <tr style=\"text-align: right;\">\n      <th></th>\n      <th>Player</th>\n      <th>First</th>\n      <th>Last</th>\n    </tr>\n  </thead>\n  <tbody>\n    <tr>\n      <th>0</th>\n      <td>Vincent Askew</td>\n      <td>Vincent</td>\n      <td>Askew</td>\n    </tr>\n    <tr>\n      <th>1</th>\n      <td>Frank Brickowski</td>\n      <td>Frank</td>\n      <td>Brickowski</td>\n    </tr>\n    <tr>\n      <th>2</th>\n      <td>Sherell Ford</td>\n      <td>Sherell</td>\n      <td>Ford</td>\n    </tr>\n    <tr>\n      <th>3</th>\n      <td>Hersey Hawkins</td>\n      <td>Hersey</td>\n      <td>Hawkins</td>\n    </tr>\n    <tr>\n      <th>4</th>\n      <td>Ervin Johnson</td>\n      <td>Ervin</td>\n      <td>Johnson</td>\n    </tr>\n    <tr>\n      <th>5</th>\n      <td>Shawn Kemp</td>\n      <td>Shawn</td>\n      <td>Kemp</td>\n    </tr>\n    <tr>\n      <th>6</th>\n      <td>Nate McMillan</td>\n      <td>Nate</td>\n      <td>McMillan</td>\n    </tr>\n    <tr>\n      <th>7</th>\n      <td>Gary Payton</td>\n      <td>Gary</td>\n      <td>Payton</td>\n    </tr>\n    <tr>\n      <th>8</th>\n      <td>Sam Perkins</td>\n      <td>Sam</td>\n      <td>Perkins</td>\n    </tr>\n    <tr>\n      <th>9</th>\n      <td>Steve Scheffler</td>\n      <td>Steve</td>\n      <td>Scheffler</td>\n    </tr>\n    <tr>\n      <th>10</th>\n      <td>Detlef Schrempf</td>\n      <td>Detlef</td>\n      <td>Schrempf</td>\n    </tr>\n    <tr>\n      <th>11</th>\n      <td>Eric Snow</td>\n      <td>Eric</td>\n      <td>Snow</td>\n    </tr>\n    <tr>\n      <th>12</th>\n      <td>David Wingate</td>\n      <td>David</td>\n      <td>Wingate</td>\n    </tr>\n  </tbody>\n</table>\n</div>",
                        "text/plain": "              Player    First        Last\n0      Vincent Askew  Vincent       Askew\n1   Frank Brickowski    Frank  Brickowski\n2       Sherell Ford  Sherell        Ford\n3     Hersey Hawkins   Hersey     Hawkins\n4      Ervin Johnson    Ervin     Johnson\n5         Shawn Kemp    Shawn        Kemp\n6      Nate McMillan     Nate    McMillan\n7        Gary Payton     Gary      Payton\n8        Sam Perkins      Sam     Perkins\n9    Steve Scheffler    Steve   Scheffler\n10   Detlef Schrempf   Detlef    Schrempf\n11         Eric Snow     Eric        Snow\n12     David Wingate    David     Wingate"
                    },
                    "execution_count": 56,
                    "metadata": {},
                    "output_type": "execute_result"
                }
            ],
            "source": "# Add these first and last names to our sonics dataframe \nsonics['First']=names['First']\nsonics['Last']=names['Last']\nsonics"
        }
    ],
    "metadata": {
        "kernelspec": {
            "display_name": "Python 3.6",
            "language": "python",
            "name": "python3"
        },
        "language_info": {
            "codemirror_mode": {
                "name": "ipython",
                "version": 3
            },
            "file_extension": ".py",
            "mimetype": "text/x-python",
            "name": "python",
            "nbconvert_exporter": "python",
            "pygments_lexer": "ipython3",
            "version": "3.6.9"
        }
    },
    "nbformat": 4,
    "nbformat_minor": 1
}